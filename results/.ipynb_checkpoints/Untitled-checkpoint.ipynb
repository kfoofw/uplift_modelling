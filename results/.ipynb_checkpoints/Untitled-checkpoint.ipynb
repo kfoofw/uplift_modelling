{
 "cells": [
  {
   "cell_type": "code",
   "execution_count": 1,
   "id": "incredible-prerequisite",
   "metadata": {},
   "outputs": [],
   "source": [
    "import pandas as pd\n",
    "import numpy as np\n",
    "import seaborn as sns\n",
    "import matplotlib.pyplot as plt"
   ]
  },
  {
   "cell_type": "markdown",
   "id": "conservative-riding",
   "metadata": {},
   "source": [
    "# Treatment vs Visits"
   ]
  },
  {
   "cell_type": "code",
   "execution_count": 4,
   "id": "changed-alberta",
   "metadata": {},
   "outputs": [],
   "source": [
    "VISIT_TMA_df = pd.DataFrame([\n",
    "    [0.11617325871812029, 0.1004508201409335, 0.10157777310526447, 0.09965827250525336, 0.10504298819923442],\n",
    "    [0.09647550575365084, 0.08134322670786229, 0.08397233769815406, 0.08226609320069926, 0.08617335873273574],\n",
    "    [0.09324649044285886, 0.07861948282947732, 0.08133872126772519, 0.07966335186663229, 0.08342339661107713],\n",
    "], index = [\"qini\", \"aqini\",\"cgains\"])"
   ]
  },
  {
   "cell_type": "code",
   "execution_count": 6,
   "id": "cubic-moscow",
   "metadata": {},
   "outputs": [],
   "source": [
    "VISIT_TMA_df.to_csv(\"VISIT_TMA_df.csv\")"
   ]
  },
  {
   "cell_type": "code",
   "execution_count": 9,
   "id": "variable-background",
   "metadata": {},
   "outputs": [],
   "source": [
    "VISIT_SMA_df = pd.DataFrame([\n",
    "    [0.1119931274924665, 0.10869849973697425, 0.10617960134904351, 0.11373597007326888, 0.10578060871941869],\n",
    "\t [0.08827979747471101, 0.08545254969028453, 0.08349459872085696, 0.09062204286041144, 0.08322194482354092],\n",
    "\t [0.08545035452512946, 0.08275676617114736, 0.08092871896945504, 0.08771628744110495, 0.08076038273519026]\n",
    "], index = [\"qini\", \"aqini\",\"cgains\"])"
   ]
  },
  {
   "cell_type": "code",
   "execution_count": 10,
   "id": "macro-induction",
   "metadata": {},
   "outputs": [],
   "source": [
    "VISIT_SMA_df.to_csv(\"VISIT_SMA_df.csv\")"
   ]
  },
  {
   "cell_type": "code",
   "execution_count": 11,
   "id": "clean-ladder",
   "metadata": {},
   "outputs": [],
   "source": [
    "VISIT_OT_df = pd.DataFrame([\n",
    "     [0.10766675984876489, 0.10325751822438345, 0.10258877286006735, 0.10871787658833339, 0.10172912376764223],\n",
    "\t [0.08599325055218308, 0.08122896527052156, 0.08300206647130438, 0.08781378221753915, 0.08079553423645727],\n",
    "\t [0.08384626031279008, 0.07917044527033228, 0.08114858380511518, 0.08572005805078099, 0.0788656100650473]\n",
    "], index = [\"qini\", \"aqini\",\"cgains\"])"
   ]
  },
  {
   "cell_type": "code",
   "execution_count": 12,
   "id": "athletic-class",
   "metadata": {},
   "outputs": [],
   "source": [
    "VISIT_OT_df.to_csv(\"VISIT_OT_df.csv\")"
   ]
  },
  {
   "cell_type": "code",
   "execution_count": 13,
   "id": "structural-activity",
   "metadata": {},
   "outputs": [],
   "source": [
    "VISIT_XL_df = pd.DataFrame([\n",
    "     [0.11051823224332372, 0.10615069408940515, 0.10815567581458387, 0.11380392941522635, 0.10712815029697334],\n",
    "\t [0.08997357005297671, 0.08451024640609421, 0.09019161497426625, 0.09433293803115682, 0.08659555969072234],\n",
    "\t [0.08682494520600513, 0.08153927719125374, 0.08755386143531825, 0.0913528037061221, 0.08380262915551702]\n",
    "], index = [\"qini\", \"aqini\",\"cgains\"])"
   ]
  },
  {
   "cell_type": "code",
   "execution_count": 14,
   "id": "included-ecuador",
   "metadata": {},
   "outputs": [],
   "source": [
    "VISIT_XL_df.to_csv(\"VISIT_XL_df.csv\")"
   ]
  },
  {
   "cell_type": "markdown",
   "id": "coupled-transparency",
   "metadata": {},
   "source": [
    "# Treatment Vs Conversion"
   ]
  },
  {
   "cell_type": "code",
   "execution_count": 15,
   "id": "confidential-integrity",
   "metadata": {},
   "outputs": [],
   "source": [
    "CONV_TMA_df = pd.DataFrame([\n",
    "    [0.1486189778942153, 0.09097950271034998, 0.12727195609685754, 0.15083308134501014, 0.1673643197424234],\n",
    "\t [0.13175862892748108, 0.07711996462609573, 0.10795862236898646, 0.1365086356644537, 0.15287656683813897],\n",
    "\t [0.12657899415106474, 0.0728151750288048, 0.10338156422212409, 0.13096248588936013, 0.14772992663780554]\n",
    "], index = [\"qini\", \"aqini\",\"cgains\"])"
   ]
  },
  {
   "cell_type": "code",
   "execution_count": null,
   "id": "vietnamese-breakfast",
   "metadata": {},
   "outputs": [],
   "source": [
    "CONV_TMA_df.to_csv(\"CONV_TMA_df.csv\")"
   ]
  }
 ],
 "metadata": {
  "kernelspec": {
   "display_name": "Python 3",
   "language": "python",
   "name": "python3"
  },
  "language_info": {
   "codemirror_mode": {
    "name": "ipython",
    "version": 3
   },
   "file_extension": ".py",
   "mimetype": "text/x-python",
   "name": "python",
   "nbconvert_exporter": "python",
   "pygments_lexer": "ipython3",
   "version": "3.6.12"
  }
 },
 "nbformat": 4,
 "nbformat_minor": 5
}
