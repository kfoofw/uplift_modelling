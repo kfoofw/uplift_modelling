{
 "cells": [
  {
   "cell_type": "code",
   "execution_count": 1,
   "id": "advised-easter",
   "metadata": {},
   "outputs": [],
   "source": [
    "from econml.grf import CausalForest, CausalIVForest, RegressionForest\n",
    "from econml.dml import CausalForestDML\n",
    "import numpy as np\n",
    "import scipy.special\n",
    "import matplotlib.pyplot as plt\n",
    "from sklearn.tree import plot_tree"
   ]
  },
  {
   "cell_type": "code",
   "execution_count": 14,
   "id": "round-kingdom",
   "metadata": {},
   "outputs": [],
   "source": [
    "import pandas as pd"
   ]
  },
  {
   "cell_type": "markdown",
   "id": "ancient-evolution",
   "metadata": {},
   "source": [
    "# 1. Causal Forest: Heterogeneous causal effects with no unobserved confounders\n"
   ]
  },
  {
   "cell_type": "code",
   "execution_count": 2,
   "id": "alien-consistency",
   "metadata": {},
   "outputs": [
    {
     "data": {
      "text/plain": [
       "array([0, 1, 2, 3, 4, 5, 6, 7, 8, 9])"
      ]
     },
     "execution_count": 2,
     "metadata": {},
     "output_type": "execute_result"
    }
   ],
   "source": [
    "np.arange(10)"
   ]
  },
  {
   "cell_type": "code",
   "execution_count": 3,
   "id": "systematic-recommendation",
   "metadata": {},
   "outputs": [],
   "source": [
    "np.random.seed(123)\n",
    "n_samples = 2000\n",
    "n_features = 10\n",
    "n_treatments = 1"
   ]
  },
  {
   "cell_type": "code",
   "execution_count": 4,
   "id": "sustainable-tunisia",
   "metadata": {},
   "outputs": [],
   "source": [
    "true_te = lambda X: np.hstack([(X[:, [0]]>0) * X[:,[0]], np.ones((X.shape[0], n_treatments -1)) * np.arange(1,n_treatments).reshape(1,-1)])"
   ]
  },
  {
   "cell_type": "code",
   "execution_count": 5,
   "id": "desirable-jackson",
   "metadata": {},
   "outputs": [
    {
     "data": {
      "text/plain": [
       "<function __main__.<lambda>>"
      ]
     },
     "execution_count": 5,
     "metadata": {},
     "output_type": "execute_result"
    }
   ],
   "source": [
    "true_te"
   ]
  },
  {
   "cell_type": "code",
   "execution_count": 26,
   "id": "anonymous-census",
   "metadata": {},
   "outputs": [],
   "source": [
    "X = np.random.normal(0, 1, size = (n_samples, n_features))\n",
    "\n",
    "T = np.random.normal(0, 1, size = (n_samples, n_treatments))\n",
    "for t in range(n_treatments):\n",
    "    T[:,t] = np.random.binomial(1, scipy.special.expit(X[:,0]))"
   ]
  },
  {
   "cell_type": "code",
   "execution_count": 27,
   "id": "delayed-junction",
   "metadata": {},
   "outputs": [],
   "source": [
    "y = np.sum(true_te(X) * T, axis = 1, keepdims = True) + np.random.normal(0, 0.5, size = (n_samples,1))"
   ]
  },
  {
   "cell_type": "code",
   "execution_count": 38,
   "id": "revised-trace",
   "metadata": {},
   "outputs": [],
   "source": [
    "X_test = X[:min(100, n_samples)].copy()\n",
    "\n",
    "X_test[:,0] = np.linspace(np.percentile(X[:, 0], 1), \n",
    "                          np.percentile(X[:,0],99), \n",
    "                          min(100,n_samples))"
   ]
  },
  {
   "cell_type": "code",
   "execution_count": 40,
   "id": "featured-match",
   "metadata": {},
   "outputs": [],
   "source": [
    "est = CausalForest(\n",
    "    criterion = 'het', \n",
    "    n_estimators = 400, \n",
    "    min_samples_leaf = 5,\n",
    "    max_depth = None,\n",
    "    min_var_fraction_leaf = None,\n",
    "    min_var_leaf_on_val = True,\n",
    "    min_impurity_decrease = 0.0, \n",
    "    max_samples = 0.45, min_balancedness_tol = 0.45,\n",
    "    warm_start = False, inference = True, fit_intercept = True, subforest_size = 4,\n",
    "    honest = True, verbose = 0, n_jobs = -1, random_state = 1235)"
   ]
  },
  {
   "cell_type": "code",
   "execution_count": 41,
   "id": "commercial-indonesia",
   "metadata": {},
   "outputs": [
    {
     "data": {
      "text/plain": [
       "CausalForest(criterion='het', min_var_leaf_on_val=True, n_estimators=400,\n",
       "             random_state=1235)"
      ]
     },
     "execution_count": 41,
     "metadata": {},
     "output_type": "execute_result"
    }
   ],
   "source": [
    "est.fit(X, T, y)"
   ]
  },
  {
   "cell_type": "code",
   "execution_count": 53,
   "id": "extra-staff",
   "metadata": {},
   "outputs": [],
   "source": [
    "point, lb, ub = est.predict(X_test, interval = True, alpha = 0.01)"
   ]
  },
  {
   "cell_type": "code",
   "execution_count": 54,
   "id": "finnish-sheet",
   "metadata": {},
   "outputs": [],
   "source": [
    "point = est.predict(X_test)"
   ]
  },
  {
   "cell_type": "code",
   "execution_count": 55,
   "id": "involved-airplane",
   "metadata": {},
   "outputs": [
    {
     "data": {
      "image/png": "[encoded data removed]",
      "text/plain": [
       "<Figure size 432x288 with 1 Axes>"
      ]
     },
     "metadata": {
      "needs_background": "light"
     },
     "output_type": "display_data"
    }
   ],
   "source": [
    "for t in range(n_treatments):\n",
    "    plt.plot(X_test[:, 0], point[:,t])\n",
    "    if est.inference:\n",
    "        plt.fill_between(X_test[:,0], lb[:,t], ub[:,t], alpha = 0.4)\n",
    "    plt.plot(X_test[:,0], true_te(X_test)[:,t])\n",
    "plt.show()"
   ]
  },
  {
   "cell_type": "code",
   "execution_count": 47,
   "id": "unlimited-logan",
   "metadata": {},
   "outputs": [],
   "source": [
    "import shap"
   ]
  },
  {
   "cell_type": "code",
   "execution_count": 48,
   "id": "weekly-leather",
   "metadata": {},
   "outputs": [
    {
     "data": {
      "text/plain": [
       "<econml.dml.causal_forest.CausalForestDML at 0x7f511daab198>"
      ]
     },
     "execution_count": 48,
     "metadata": {},
     "output_type": "execute_result"
    }
   ],
   "source": [
    "est1 = CausalForestDML(cv=2,\n",
    "                      criterion='mse', n_estimators=400,\n",
    "                      min_var_fraction_leaf=0.1,\n",
    "                      min_var_leaf_on_val=True,\n",
    "                      verbose=0, discrete_treatment=False,\n",
    "                      n_jobs=-1, random_state=123)\n",
    "est1.fit(y, T, X=X)"
   ]
  },
  {
   "cell_type": "code",
   "execution_count": 58,
   "id": "afraid-intro",
   "metadata": {},
   "outputs": [],
   "source": [
    "res = est1.const_marginal_effect_inference(X_test)\n",
    "point1 = res.point_estimate\n",
    "lb1, ub1 = res.conf_int(alpha=0.01)"
   ]
  },
  {
   "cell_type": "code",
   "execution_count": 63,
   "id": "injured-prince",
   "metadata": {},
   "outputs": [
    {
     "data": {
      "image/png": "[encoded data removed]",
      "text/latex": [
       "$\\displaystyle \\left( 100, \\  1, \\  1\\right)$"
      ],
      "text/plain": [
       "(100, 1, 1)"
      ]
     },
     "execution_count": 63,
     "metadata": {},
     "output_type": "execute_result"
    }
   ],
   "source": [
    "point1.shape"
   ]
  },
  {
   "cell_type": "code",
   "execution_count": 66,
   "id": "meaning-plant",
   "metadata": {},
   "outputs": [
    {
     "data": {
      "image/png": "[encoded data removed]",
      "text/plain": [
       "<Figure size 432x288 with 1 Axes>"
      ]
     },
     "metadata": {
      "needs_background": "light"
     },
     "output_type": "display_data"
    }
   ],
   "source": [
    "n_outputs = 1\n",
    "for t in range(n_treatments):\n",
    "    for j in range(n_outputs):\n",
    "        plt.plot(X_test[:, 0], point1[:, j, t])\n",
    "        plt.fill_between(X_test[:,0], lb1[:, j, t], ub1[:, j, t], alpha=.4)\n",
    "        plt.plot(X_test[:, 0], (j + 1) * true_te(X_test)[:, t])\n",
    "plt.show()"
   ]
  },
  {
   "cell_type": "markdown",
   "id": "theoretical-toner",
   "metadata": {},
   "source": [
    "# 2. Causal IV Forest: Heterogeneous causal effects with unobserved confounders"
   ]
  },
  {
   "cell_type": "code",
   "execution_count": null,
   "id": "collectible-mitchell",
   "metadata": {},
   "outputs": [],
   "source": []
  }
 ],
 "metadata": {
  "kernelspec": {
   "display_name": "Python 3",
   "language": "python",
   "name": "python3"
  },
  "language_info": {
   "codemirror_mode": {
    "name": "ipython",
    "version": 3
   },
   "file_extension": ".py",
   "mimetype": "text/x-python",
   "name": "python",
   "nbconvert_exporter": "python",
   "pygments_lexer": "ipython3",
   "version": "3.6.12"
  }
 },
 "nbformat": 4,
 "nbformat_minor": 5
}
